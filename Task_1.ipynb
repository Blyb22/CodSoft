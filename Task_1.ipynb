{
  "nbformat": 4,
  "nbformat_minor": 0,
  "metadata": {
    "colab": {
      "provenance": []
    },
    "kernelspec": {
      "name": "python3",
      "display_name": "Python 3"
    },
    "language_info": {
      "name": "python"
    }
  },
  "cells": [
    {
      "cell_type": "code",
      "execution_count": 1,
      "metadata": {
        "colab": {
          "base_uri": "https://localhost:8080/"
        },
        "id": "9Bboj6BCAx6V",
        "outputId": "86f97048-e575-4d3c-8e49-7c9fcf4c013f"
      },
      "outputs": [
        {
          "output_type": "stream",
          "name": "stdout",
          "text": [
            "\n",
            "1. Add Task\n",
            "2. View Tasks\n",
            "3. Mark Task as Completed\n",
            "4. Delete Task\n",
            "5. Exit\n",
            "Enter your choice: 1\n",
            "Enter the task: papa\n",
            "Task 'papa' added successfully.\n",
            "\n",
            "1. Add Task\n",
            "2. View Tasks\n",
            "3. Mark Task as Completed\n",
            "4. Delete Task\n",
            "5. Exit\n",
            "Enter your choice: 2\n",
            "Your To-Do List:\n",
            "1. papa\n",
            "\n",
            "1. Add Task\n",
            "2. View Tasks\n",
            "3. Mark Task as Completed\n",
            "4. Delete Task\n",
            "5. Exit\n",
            "Enter your choice: 3\n",
            "Enter the task number to mark as completed: 1\n",
            "Task marked as completed.\n",
            "\n",
            "1. Add Task\n",
            "2. View Tasks\n",
            "3. Mark Task as Completed\n",
            "4. Delete Task\n",
            "5. Exit\n",
            "Enter your choice: 5\n",
            "Exiting the To-Do List application.\n"
          ]
        }
      ],
      "source": [
        "class TodoList:\n",
        "    def __init__(self):\n",
        "        self.tasks = []\n",
        "\n",
        "    def add_task(self, task):\n",
        "        self.tasks.append(task)\n",
        "        print(f\"Task '{task}' added successfully.\")\n",
        "\n",
        "    def view_tasks(self):\n",
        "        if self.tasks:\n",
        "            print(\"Your To-Do List:\")\n",
        "            for index, task in enumerate(self.tasks, start=1):\n",
        "                print(f\"{index}. {task}\")\n",
        "        else:\n",
        "            print(\"No tasks in the list.\")\n",
        "\n",
        "    def mark_as_completed(self, task_index):\n",
        "        if 1 <= task_index <= len(self.tasks):\n",
        "            self.tasks[task_index - 1] += \" - Completed\"\n",
        "            print(\"Task marked as completed.\")\n",
        "        else:\n",
        "            print(\"Invalid task number.\")\n",
        "\n",
        "    def delete_task(self, task_index):\n",
        "        if 1 <= task_index <= len(self.tasks):\n",
        "            del self.tasks[task_index - 1]\n",
        "            print(\"Task deleted successfully.\")\n",
        "        else:\n",
        "            print(\"Invalid task number.\")\n",
        "\n",
        "\n",
        "def main():\n",
        "    todo_list = TodoList()\n",
        "\n",
        "    while True:\n",
        "        print(\"\\n1. Add Task\")\n",
        "        print(\"2. View Tasks\")\n",
        "        print(\"3. Mark Task as Completed\")\n",
        "        print(\"4. Delete Task\")\n",
        "        print(\"5. Exit\")\n",
        "\n",
        "        choice = input(\"Enter your choice: \")\n",
        "\n",
        "        if choice == '1':\n",
        "            task = input(\"Enter the task: \")\n",
        "            todo_list.add_task(task)\n",
        "        elif choice == '2':\n",
        "            todo_list.view_tasks()\n",
        "        elif choice == '3':\n",
        "            task_index = int(input(\"Enter the task number to mark as completed: \"))\n",
        "            todo_list.mark_as_completed(task_index)\n",
        "        elif choice == '4':\n",
        "            task_index = int(input(\"Enter the task number to delete: \"))\n",
        "            todo_list.delete_task(task_index)\n",
        "        elif choice == '5':\n",
        "            print(\"Exiting the To-Do List application.\")\n",
        "            break\n",
        "        else:\n",
        "            print(\"Invalid choice. Please enter a valid option.\")\n",
        "\n",
        "\n",
        "if __name__ == \"__main__\":\n",
        "    main()"
      ]
    }
  ]
}