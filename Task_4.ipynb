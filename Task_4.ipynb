{
  "nbformat": 4,
  "nbformat_minor": 0,
  "metadata": {
    "colab": {
      "provenance": []
    },
    "kernelspec": {
      "name": "python3",
      "display_name": "Python 3"
    },
    "language_info": {
      "name": "python"
    }
  },
  "cells": [
    {
      "cell_type": "code",
      "execution_count": 1,
      "metadata": {
        "colab": {
          "base_uri": "https://localhost:8080/"
        },
        "id": "_oMN6-9yDdTH",
        "outputId": "8cca7b64-98d8-41c8-fb7a-dfb962d7cef8"
      },
      "outputs": [
        {
          "output_type": "stream",
          "name": "stdout",
          "text": [
            "Welcome to Rock, Paper, Scissors Game!\n",
            "\n",
            "Choose: Rock, Paper, or Scissors (or 'exit' to quit)\n",
            "Your choice: paper\n",
            "Computer chose: scissors\n",
            "Sorry! Computer wins.\n",
            "Score - You: 1  Computer: 0\n",
            "\n",
            "Choose: Rock, Paper, or Scissors (or 'exit' to quit)\n",
            "Your choice: scissors\n",
            "Computer chose: paper\n",
            "Congratulations! You win!\n",
            "Score - You: 2  Computer: 0\n",
            "\n",
            "Choose: Rock, Paper, or Scissors (or 'exit' to quit)\n",
            "Your choice: exit\n",
            "Exiting the game.\n"
          ]
        }
      ],
      "source": [
        "import random\n",
        "\n",
        "def determine_winner(user_choice, computer_choice):\n",
        "    if user_choice == computer_choice:\n",
        "        return \"It's a tie!\"\n",
        "    elif (user_choice == 'rock' and computer_choice == 'scissors') or \\\n",
        "         (user_choice == 'scissors' and computer_choice == 'paper') or \\\n",
        "         (user_choice == 'paper' and computer_choice == 'rock'):\n",
        "        return \"Congratulations! You win!\"\n",
        "    else:\n",
        "        return \"Sorry! Computer wins.\"\n",
        "\n",
        "def main():\n",
        "    print(\"Welcome to Rock, Paper, Scissors Game!\")\n",
        "    user_score = 0\n",
        "    computer_score = 0\n",
        "\n",
        "    while True:\n",
        "        print(\"\\nChoose: Rock, Paper, or Scissors (or 'exit' to quit)\")\n",
        "        user_choice = input(\"Your choice: \").lower()\n",
        "\n",
        "        if user_choice == 'exit':\n",
        "            print(\"Exiting the game.\")\n",
        "            break\n",
        "        elif user_choice not in ['rock', 'paper', 'scissors']:\n",
        "            print(\"Invalid choice! Please choose Rock, Paper, or Scissors.\")\n",
        "            continue\n",
        "\n",
        "        computer_choice = random.choice(['rock', 'paper', 'scissors'])\n",
        "        print(f\"Computer chose: {computer_choice}\")\n",
        "\n",
        "        result = determine_winner(user_choice, computer_choice)\n",
        "        print(result)\n",
        "\n",
        "        if 'win' in result:\n",
        "            user_score += 1\n",
        "        elif 'Computer' in result:\n",
        "            computer_score += 1\n",
        "\n",
        "        print(f\"Score - You: {user_score}  Computer: {computer_score}\")\n",
        "\n",
        "if __name__ == \"__main__\":\n",
        "    main()"
      ]
    }
  ]
}