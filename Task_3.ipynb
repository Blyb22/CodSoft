{
  "nbformat": 4,
  "nbformat_minor": 0,
  "metadata": {
    "colab": {
      "provenance": []
    },
    "kernelspec": {
      "name": "python3",
      "display_name": "Python 3"
    },
    "language_info": {
      "name": "python"
    }
  },
  "cells": [
    {
      "cell_type": "code",
      "execution_count": 1,
      "metadata": {
        "colab": {
          "base_uri": "https://localhost:8080/"
        },
        "id": "OKS8BgtrDZGa",
        "outputId": "cc79c670-6fa5-4852-916c-68664d366f50"
      },
      "outputs": [
        {
          "output_type": "stream",
          "name": "stdout",
          "text": [
            "Welcome to Password Generator!\n",
            "Enter the desired length of the password: 99\n",
            "Generated Password: \\-~mtLin#KW.WE.1BoNmZ*/Iknya=8\"Js3-xwT)Y_[8<8oe@Of3}B<6@;&b%E`,2OI`^WjyrP\\^@:[-w\"3iu5s<((_xr-#pTr7(\n"
          ]
        }
      ],
      "source": [
        "import secrets\n",
        "import string\n",
        "\n",
        "def generate_password(length):\n",
        "    characters = string.ascii_letters + string.digits + string.punctuation\n",
        "    password = ''.join(secrets.choice(characters) for _ in range(length))\n",
        "    return password\n",
        "\n",
        "def main():\n",
        "    print(\"Welcome to Password Generator!\")\n",
        "    try:\n",
        "        length = int(input(\"Enter the desired length of the password: \"))\n",
        "        if length <= 0:\n",
        "            print(\"Password length should be a positive integer.\")\n",
        "            return\n",
        "        password = generate_password(length)\n",
        "        print(f\"Generated Password: {password}\")\n",
        "    except ValueError:\n",
        "        print(\"Please enter a valid number for password length.\")\n",
        "\n",
        "if __name__ == \"__main__\":\n",
        "    main()"
      ]
    }
  ]
}